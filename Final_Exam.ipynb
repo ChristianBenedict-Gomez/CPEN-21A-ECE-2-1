{
  "nbformat": 4,
  "nbformat_minor": 0,
  "metadata": {
    "colab": {
      "name": "Final Exam.ipynb",
      "provenance": [],
      "authorship_tag": "ABX9TyNiq3u6YhJu2umDkBN1xDv0",
      "include_colab_link": true
    },
    "kernelspec": {
      "name": "python3",
      "display_name": "Python 3"
    },
    "language_info": {
      "name": "python"
    }
  },
  "cells": [
    {
      "cell_type": "markdown",
      "metadata": {
        "id": "view-in-github",
        "colab_type": "text"
      },
      "source": [
        "<a href=\"https://colab.research.google.com/github/ChristianBenedict-Gomez/CPEN-21A-ECE-2-1/blob/main/Final_Exam.ipynb\" target=\"_parent\"><img src=\"https://colab.research.google.com/assets/colab-badge.svg\" alt=\"Open In Colab\"/></a>"
      ]
    },
    {
      "cell_type": "markdown",
      "source": [
        "\n",
        "\n",
        "##Problem Statement 01\n",
        "\n"
      ],
      "metadata": {
        "id": "t7aEodUzZDPF"
      }
    },
    {
      "cell_type": "code",
      "execution_count": 12,
      "metadata": {
        "id": "oAYv1SuKYoA3",
        "colab": {
          "base_uri": "https://localhost:8080/"
        },
        "outputId": "e991a3ea-8ef8-4653-e776-06ad246f75ff"
      },
      "outputs": [
        {
          "output_type": "stream",
          "name": "stdout",
          "text": [
            "Enter a number:5\n",
            "Enter a number:7\n",
            "Enter a number:10\n",
            "Enter a number:1\n",
            "Enter a number:8\n",
            "Enter a number:9\n",
            "Enter a number:2\n",
            "Enter a number:6\n",
            "Enter a number:1\n",
            "Enter a number:7\n",
            "[5, 7, 10, 1, 8, 9, 2, 6, 1, 7]\n",
            "The sum of numbers that are less than 5 is: 4\n"
          ]
        }
      ],
      "source": [
        "lst = []\n",
        "num = 0\n",
        "for num in range (1,10):\n",
        "  temp=int(input(\"Enter a number:\"))\n",
        "  lst.append(temp)\n",
        "  i=i+1\n",
        "\n",
        "num = 0\n",
        "summation = 0\n",
        "print(lst)\n",
        "for num in lst:\n",
        "  if num<5:\n",
        "    summation = summation+i\n",
        "print(\"The sum of numbers that are less than 5 is:\",summation)"
      ]
    },
    {
      "cell_type": "markdown",
      "source": [
        "\n",
        "\n",
        "##Problem Statement 02\n",
        "\n"
      ],
      "metadata": {
        "id": "ymdynW0tZLpY"
      }
    },
    {
      "cell_type": "code",
      "source": [
        "num = 1;\n",
        "data = {};\n",
        "while(num <=5):\n",
        "  c = str(num);\n",
        "  data[num] = input(\"Enter a number:\")\n",
        "  print(\"The value for number \"+c+\" is \"+data[num])\n",
        "  num+=1\n",
        "  if(num==6):\n",
        "    sum= int(data[1]) + int(data[5])\n",
        "print(\"The sum of the first and last number is:\" + str(sum))"
      ],
      "metadata": {
        "colab": {
          "base_uri": "https://localhost:8080/"
        },
        "id": "pffFlYWeuQnT",
        "outputId": "63971070-8a08-4bc3-9bcd-55b6316611d6"
      },
      "execution_count": 29,
      "outputs": [
        {
          "output_type": "stream",
          "name": "stdout",
          "text": [
            "Enter a number:2323\n",
            "The value for number 1 is 2323\n",
            "Enter a number:0120\n",
            "The value for number 2 is 0120\n",
            "Enter a number:0629\n",
            "The value for number 3 is 0629\n",
            "Enter a number:0909\n",
            "The value for number 4 is 0909\n",
            "Enter a number:4646\n",
            "The value for number 5 is 4646\n",
            "The sum of the first and last number is:6969\n"
          ]
        }
      ]
    },
    {
      "cell_type": "markdown",
      "source": [
        "\n",
        "\n",
        "##Problem Statement 03\n",
        "\n"
      ],
      "metadata": {
        "id": "FPuUiCOGZL1W"
      }
    },
    {
      "cell_type": "code",
      "source": [
        "Grade = float(input(\"Enter your Grade:\"))\n",
        "if Grade>=90 and Grade<=100: \n",
        "  print(\"A\")\n",
        "elif Grade>=80 and Grade<=89:\n",
        "  print(\"B\")\n",
        "elif Grade>=70 and Grade<=79:\n",
        "  print(\"C\")\n",
        "elif Grade>=60 and Grade<=69:\n",
        "  print(\"D\")\n",
        "elif Grade>=0 and Grade<60:\n",
        "  print(\"F\")\n",
        "else:\n",
        "  print(\"Enter a Grade ranging from 1-100\")\n",
        "\n"
      ],
      "metadata": {
        "colab": {
          "base_uri": "https://localhost:8080/"
        },
        "id": "ukXspo_KZw4S",
        "outputId": "74b271da-b95f-4593-de33-70059fa15913"
      },
      "execution_count": 33,
      "outputs": [
        {
          "output_type": "stream",
          "name": "stdout",
          "text": [
            "Enter your Grade:50\n",
            "F\n"
          ]
        }
      ]
    }
  ]
}