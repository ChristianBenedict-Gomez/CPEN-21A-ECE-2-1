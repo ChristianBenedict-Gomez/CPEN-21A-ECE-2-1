{
  "nbformat": 4,
  "nbformat_minor": 0,
  "metadata": {
    "colab": {
      "name": "Final Exam.ipynb",
      "provenance": [],
      "authorship_tag": "ABX9TyMSSmN1b1aMyt5g6qWkdGYo",
      "include_colab_link": true
    },
    "kernelspec": {
      "name": "python3",
      "display_name": "Python 3"
    },
    "language_info": {
      "name": "python"
    }
  },
  "cells": [
    {
      "cell_type": "markdown",
      "metadata": {
        "id": "view-in-github",
        "colab_type": "text"
      },
      "source": [
        "<a href=\"https://colab.research.google.com/github/ChristianBenedict-Gomez/CPEN-21A-ECE-2-1/blob/main/Final_Exam.ipynb\" target=\"_parent\"><img src=\"https://colab.research.google.com/assets/colab-badge.svg\" alt=\"Open In Colab\"/></a>"
      ]
    },
    {
      "cell_type": "markdown",
      "source": [
        "\n",
        "\n",
        "##Problem Statement 01\n",
        "\n"
      ],
      "metadata": {
        "id": "t7aEodUzZDPF"
      }
    },
    {
      "cell_type": "code",
      "execution_count": 4,
      "metadata": {
        "id": "oAYv1SuKYoA3",
        "colab": {
          "base_uri": "https://localhost:8080/"
        },
        "outputId": "42a41049-6f4e-415a-a61b-1bc384421fc5"
      },
      "outputs": [
        {
          "output_type": "stream",
          "name": "stdout",
          "text": [
            "Enter a number:5\n",
            "Invalid, please put a value less than 5\n",
            "Enter a number:-6\n",
            "\n",
            "Enter a number:4\n",
            "\n",
            "Enter a number:4.1\n",
            "\n",
            "Enter a number:.9\n",
            "\n",
            "Enter a number:3.9\n",
            "\n",
            "Enter a number:8\n",
            "Invalid, please put a value less than 5\n",
            "Enter a number:4\n",
            "\n",
            "Enter a number:4.9\n",
            "\n",
            "Enter a number:1.1\n",
            "\n",
            "Enter a number:12\n",
            "Invalid, please put a value less than 5\n",
            "Enter a number:2.2\n",
            "\n",
            "Enter a number:3\n",
            "\n",
            "The values you entered are: [-6.0, 4.0, 4.1, 0.9, 3.9, 4.0, 4.9, 1.1, 2.2, 3.0]\n",
            "\n",
            "The sum of numbers that are less than 5 is: 22.099999999999998\n"
          ]
        }
      ],
      "source": [
        "num = []\n",
        "G = 0\n",
        "for G in range (1,11):\n",
        "  while True:\n",
        "    B = float(input(\"Enter a number:\"))\n",
        "    if B<5:\n",
        "      print(\"\")\n",
        "      break\n",
        "    else:\n",
        "      print(\"Invalid, please put a value less than 5\")\n",
        "    continue\n",
        "  num.append(B)\n",
        "  G+=1\n",
        "\n",
        "G = 0\n",
        "summation = 0\n",
        "print(\"The values you entered are:\", num)\n",
        "print(\"\")\n",
        "for G in num:\n",
        "  if G<5:\n",
        "    summation = summation+G3\n",
        "print(\"The sum of numbers that are less than 5 is:\",summation)"
      ]
    },
    {
      "cell_type": "markdown",
      "source": [
        "\n",
        "\n",
        "##Problem Statement 02\n",
        "\n"
      ],
      "metadata": {
        "id": "ymdynW0tZLpY"
      }
    },
    {
      "cell_type": "code",
      "source": [
        "num = 1;\n",
        "data = {};\n",
        "while(num <=5):\n",
        "  c = str(num);\n",
        "  data[num] = input(\"Enter a number:\")\n",
        "  print(\"The value for number \"+c+\" is \"+data[num])\n",
        "  num+=1\n",
        "  if(num==6):\n",
        "    sum= int(data[1]) + int(data[5])\n",
        "print(\"The sum of the first and last number is:\" + str(sum))"
      ],
      "metadata": {
        "colab": {
          "base_uri": "https://localhost:8080/"
        },
        "id": "pffFlYWeuQnT",
        "outputId": "63971070-8a08-4bc3-9bcd-55b6316611d6"
      },
      "execution_count": null,
      "outputs": [
        {
          "output_type": "stream",
          "name": "stdout",
          "text": [
            "Enter a number:2323\n",
            "The value for number 1 is 2323\n",
            "Enter a number:0120\n",
            "The value for number 2 is 0120\n",
            "Enter a number:0629\n",
            "The value for number 3 is 0629\n",
            "Enter a number:0909\n",
            "The value for number 4 is 0909\n",
            "Enter a number:4646\n",
            "The value for number 5 is 4646\n",
            "The sum of the first and last number is:6969\n"
          ]
        }
      ]
    },
    {
      "cell_type": "markdown",
      "source": [
        "\n",
        "\n",
        "##Problem Statement 03\n",
        "\n"
      ],
      "metadata": {
        "id": "FPuUiCOGZL1W"
      }
    },
    {
      "cell_type": "code",
      "source": [
        "Grade = float(input(\"Enter your Grade:\"))\n",
        "if Grade>=90 and Grade<=100: \n",
        "  print(\"A\")\n",
        "elif Grade>=80 and Grade<=89:\n",
        "  print(\"B\")\n",
        "elif Grade>=70 and Grade<=79:\n",
        "  print(\"C\")\n",
        "elif Grade>=60 and Grade<=69:\n",
        "  print(\"D\")\n",
        "elif Grade>=0 and Grade<60:\n",
        "  print(\"F\")\n",
        "else:\n",
        "  print(\"Enter a Grade ranging from 1-100\")\n",
        "\n"
      ],
      "metadata": {
        "colab": {
          "base_uri": "https://localhost:8080/"
        },
        "id": "ukXspo_KZw4S",
        "outputId": "74b271da-b95f-4593-de33-70059fa15913"
      },
      "execution_count": null,
      "outputs": [
        {
          "output_type": "stream",
          "name": "stdout",
          "text": [
            "Enter your Grade:50\n",
            "F\n"
          ]
        }
      ]
    }
  ]
}