{
  "nbformat": 4,
  "nbformat_minor": 0,
  "metadata": {
    "colab": {
      "name": "Lab1",
      "provenance": [],
      "collapsed_sections": [],
      "include_colab_link": true
    },
    "kernelspec": {
      "display_name": "Python 3",
      "name": "python3"
    }
  },
  "cells": [
    {
      "cell_type": "markdown",
      "metadata": {
        "id": "view-in-github",
        "colab_type": "text"
      },
      "source": [
        "<a href=\"https://colab.research.google.com/github/ChristianBenedict-Gomez/CPEN-21A-ECE-2-1/blob/main/Lab1.ipynb\" target=\"_parent\"><img src=\"https://colab.research.google.com/assets/colab-badge.svg\" alt=\"Open In Colab\"/></a>"
      ]
    },
    {
      "cell_type": "markdown",
      "metadata": {
        "id": "YdQj7KtVpYur"
      },
      "source": [
        "## Laboratoy 1\n"
      ]
    },
    {
      "cell_type": "code",
      "metadata": {
        "id": "6DWMuNPMpU1k",
        "colab": {
          "base_uri": "https://localhost:8080/"
        },
        "outputId": "7ab5caf9-140c-4380-c573-8b1905b0660d"
      },
      "source": [
        "W = \"Welcome to Python Programming\"\n",
        "print(W)\n"
      ],
      "execution_count": 6,
      "outputs": [
        {
          "output_type": "stream",
          "name": "stdout",
          "text": [
            "Welcome to Python Programming\n"
          ]
        }
      ]
    },
    {
      "cell_type": "code",
      "metadata": {
        "id": "anl1IEyVpXxP",
        "colab": {
          "base_uri": "https://localhost:8080/"
        },
        "outputId": "daed07c3-ea23-4f5b-ce41-4044c1fb13f2"
      },
      "source": [
        "C = \"Name: Christian Benedict B. Gomez\"\n",
        "B = \"Address: B-13, L-14, Guinhawa South, Tagaytay City\"\n",
        "G = \"Age: 20 years old\"\n",
        "print(C)\n",
        "print(B)\n",
        "print(G)"
      ],
      "execution_count": 7,
      "outputs": [
        {
          "output_type": "stream",
          "name": "stdout",
          "text": [
            "Name: Christian Benedict B. Gomez\n",
            "Address: B-13, L-14, Guinhawa South, Tagaytay City\n",
            "Age: 20 years old\n"
          ]
        }
      ]
    }
  ]
}