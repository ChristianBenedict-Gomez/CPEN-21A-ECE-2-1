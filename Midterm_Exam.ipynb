{
  "nbformat": 4,
  "nbformat_minor": 0,
  "metadata": {
    "colab": {
      "name": "Midterm Exam.ipynb",
      "provenance": [],
      "authorship_tag": "ABX9TyNOQMNMzUjHJedH4XvJUFKr",
      "include_colab_link": true
    },
    "kernelspec": {
      "name": "python3",
      "display_name": "Python 3"
    },
    "language_info": {
      "name": "python"
    }
  },
  "cells": [
    {
      "cell_type": "markdown",
      "metadata": {
        "id": "view-in-github",
        "colab_type": "text"
      },
      "source": [
        "<a href=\"https://colab.research.google.com/github/ChristianBenedict-Gomez/CPEN-21A-ECE-2-1/blob/main/Midterm_Exam.ipynb\" target=\"_parent\"><img src=\"https://colab.research.google.com/assets/colab-badge.svg\" alt=\"Open In Colab\"/></a>"
      ]
    },
    {
      "cell_type": "markdown",
      "metadata": {
        "id": "fBCOY0Up3mdM"
      },
      "source": [
        "##Problem Statement 1"
      ]
    },
    {
      "cell_type": "code",
      "metadata": {
        "colab": {
          "base_uri": "https://localhost:8080/"
        },
        "id": "QZelysBR3Xv1",
        "outputId": "e2fe2a8c-5152-42d3-dcf5-85a3fce42807"
      },
      "source": [
        "A = \"Christian Benedict B. Gomez\"\n",
        "B = \"202012368\"\n",
        "C = \"20\"\n",
        "D = \"October 04, 2001\"\n",
        "E = \"B-13, L-14, Guinhawa South, Tagaytay City\"\n",
        "F = \"CPEN 21A - Programming Logic and Design\"\n",
        "G = \"1.58\"\n",
        "\n",
        "print(\"Full Name:\" \"\" + A) #a\n",
        "print(\"Student Number:\"\"\" + B) #b\n",
        "print(\"Age:\"\"\" + C) #c\n",
        "print(\"Birthday:\"\"\" + D) #d\n",
        "print(\"Address:\"\"\" + E) #e\n",
        "print(\"Course:\"\"\" + F) #f\n",
        "print(\"Last Sem GWA:\"\"\" + G) #g"
      ],
      "execution_count": 2,
      "outputs": [
        {
          "output_type": "stream",
          "name": "stdout",
          "text": [
            "Full Name:Christian Benedict B. Gomez\n",
            "Student Number:202012368\n",
            "Age:20\n",
            "Birthday:October 04, 2001\n",
            "Address:B-13, L-14, Guinhawa South, Tagaytay City\n",
            "Course:CPEN 21A - Programming Logic and Design\n",
            "Last Sem GWA:1.58\n"
          ]
        }
      ]
    },
    {
      "cell_type": "markdown",
      "metadata": {
        "id": "Hguz56Rj6mLr"
      },
      "source": [
        "##Problem Statement 2"
      ]
    },
    {
      "cell_type": "code",
      "metadata": {
        "colab": {
          "base_uri": "https://localhost:8080/"
        },
        "id": "9-xkEQBv6pQa",
        "outputId": "471d4364-e34e-46c9-9339-03dff943e62d"
      },
      "source": [
        "n = 4\n",
        "answ = \"Y\"\n",
        "\n",
        "print((2<n)and(n<6)) #a\n",
        "print((2<n)or(n==6)) #b\n",
        "print(not(2<n)or(n==6)) #c\n",
        "print(not(n<6)) #d\n",
        "print((answ==\"Y\")or(answ==\"Y\")) #e\n",
        "print((answ==\"Y\")and(answ==\"y\")) #f\n",
        "print(not(answ==\"y\")) #g\n",
        "print(((2<n)and(n==5+1))or(answ==\"No\")) #h\n",
        "print(((n==2)and(n==7))or(answ==\"Y\")) #i\n",
        "print((n==2)and((n==7)or(answ==\"Y\"))) #j"
      ],
      "execution_count": 32,
      "outputs": [
        {
          "output_type": "stream",
          "name": "stdout",
          "text": [
            "True\n",
            "True\n",
            "False\n",
            "False\n",
            "True\n",
            "False\n",
            "True\n",
            "False\n",
            "True\n",
            "False\n"
          ]
        }
      ]
    },
    {
      "cell_type": "markdown",
      "metadata": {
        "id": "YcPYRQ_KA4FT"
      },
      "source": [
        "##Problem Statement 3"
      ]
    },
    {
      "cell_type": "code",
      "metadata": {
        "colab": {
          "base_uri": "https://localhost:8080/"
        },
        "id": "r3pFkIuwA85-",
        "outputId": "06d3b995-1302-4470-903a-668f41f7f6d8"
      },
      "source": [
        "w = 7\n",
        "x = 2\n",
        "y = -3\n",
        "z = -10\n",
        "\n",
        "print(x/y) #a\n",
        "print(w/y/x) #b\n",
        "print(z/y%x) #c\n",
        "print(x%-y*w) #d\n",
        "print(x%y) #e\n",
        "print(z%w-y/x*5+5) #f\n",
        "print(9-x%(2+y)) #g\n",
        "print(z//w) #h\n",
        "print((2+y)**2) #i\n",
        "print(w/x*2) #j\n"
      ],
      "execution_count": 34,
      "outputs": [
        {
          "output_type": "stream",
          "name": "stdout",
          "text": [
            "-0.6666666666666666\n",
            "-1.1666666666666667\n",
            "1.3333333333333335\n",
            "14\n",
            "-1\n",
            "16.5\n",
            "9\n",
            "-2\n",
            "1\n",
            "7.0\n"
          ]
        }
      ]
    }
  ]
}